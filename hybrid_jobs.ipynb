{
 "cells": [
  {
   "cell_type": "markdown",
   "metadata": {},
   "source": [
    "### Disclaimer\n",
    "\n",
    "- You need Python 3.10 or higher to run this demo\n",
    "- Amazon Braket is a paid service, but there are free options: https://aws.amazon.com/braket/getting-started"
   ]
  },
  {
   "cell_type": "code",
   "execution_count": 1,
   "metadata": {},
   "outputs": [
    {
     "name": "stdout",
     "output_type": "stream",
     "text": [
      "Name: PennyLane\n",
      "Version: 0.32.0\n",
      "Summary: PennyLane is a Python quantum machine learning library by Xanadu Inc.\n",
      "Home-page: https://github.com/PennyLaneAI/pennylane\n",
      "Author: \n",
      "Author-email: \n",
      "License: Apache License 2.0\n",
      "Location: /Users/isaac/.virtualenvs/pennylane-braket/lib/python3.10/site-packages\n",
      "Requires: appdirs, autograd, autoray, cachetools, networkx, numpy, pennylane-lightning, requests, rustworkx, scipy, semantic-version, toml, typing-extensions\n",
      "Required-by: amazon-braket-pennylane-plugin, PennyLane-Lightning\n",
      "\n",
      "Platform info:           macOS-14.1.1-arm64-arm-64bit\n",
      "Python version:          3.10.13\n",
      "Numpy version:           1.23.5\n",
      "Scipy version:           1.11.3\n",
      "Installed devices:\n",
      "- default.gaussian (PennyLane-0.32.0)\n",
      "- default.mixed (PennyLane-0.32.0)\n",
      "- default.qubit (PennyLane-0.32.0)\n",
      "- default.qubit.autograd (PennyLane-0.32.0)\n",
      "- default.qubit.jax (PennyLane-0.32.0)\n",
      "- default.qubit.tf (PennyLane-0.32.0)\n",
      "- default.qubit.torch (PennyLane-0.32.0)\n",
      "- default.qutrit (PennyLane-0.32.0)\n",
      "- null.qubit (PennyLane-0.32.0)\n",
      "- lightning.qubit (PennyLane-Lightning-0.33.1)\n",
      "- braket.aws.ahs (amazon-braket-pennylane-plugin-1.23.0)\n",
      "- braket.aws.qubit (amazon-braket-pennylane-plugin-1.23.0)\n",
      "- braket.local.ahs (amazon-braket-pennylane-plugin-1.23.0)\n",
      "- braket.local.qubit (amazon-braket-pennylane-plugin-1.23.0)\n"
     ]
    }
   ],
   "source": [
    "import pennylane as qml\n",
    "from pennylane import numpy as np\n",
    "\n",
    "qml.about()"
   ]
  },
  {
   "cell_type": "code",
   "execution_count": 2,
   "metadata": {},
   "outputs": [],
   "source": [
    "def circuit(params):\n",
    "    qml.RX(params[0], wires=0)\n",
    "    qml.RY(params[1], wires=0)\n",
    "    return qml.expval(qml.PauliZ(0))"
   ]
  },
  {
   "cell_type": "code",
   "execution_count": 3,
   "metadata": {},
   "outputs": [
    {
     "name": "stdout",
     "output_type": "stream",
     "text": [
      "AspenM3 is not available. Falling back to lightning.qubit simulator.\n"
     ]
    }
   ],
   "source": [
    "from braket.devices import Devices\n",
    "from braket.aws import AwsDevice\n",
    "\n",
    "qpu_device = Devices.Rigetti.AspenM3\n",
    "qpu_device_arn = qpu_device.value\n",
    "\n",
    "qpu_available = False\n",
    "\n",
    "if AwsDevice(qpu_device_arn).is_available:\n",
    "    device_arn = qpu_device_arn\n",
    "    qpu_available = True\n",
    "\n",
    "else:\n",
    "    device_arn = \"local:pennylane/lightning.qubit\"\n",
    "    print(\"AspenM3 is not available. Falling back to lightning.qubit simulator.\")"
   ]
  },
  {
   "cell_type": "code",
   "execution_count": 4,
   "metadata": {},
   "outputs": [],
   "source": [
    "from braket.jobs import hybrid_job\n",
    "from braket.jobs.metrics import log_metric\n",
    "\n",
    "@hybrid_job(device=device_arn)\n",
    "def qpu_qubit_rotation_hybrid_job(qpu_available=False):\n",
    "    \n",
    "    if qpu_available:\n",
    "        device = qml.device(\n",
    "            \"braket.aws.qubit\",\n",
    "            device_arn=qpu_device_arn, \n",
    "            wires=1,\n",
    "            shots=1_000,\n",
    "        )\n",
    "    else:\n",
    "        device = qml.device(\n",
    "            \"braket.local.qubit\", \n",
    "            wires=1\n",
    "        )\n",
    "    \n",
    "    qnode = qml.QNode(circuit, device)\n",
    "\n",
    "    opt = qml.GradientDescentOptimizer(stepsize=0.5)\n",
    "    params = np.array([0.5, 0.75])\n",
    "\n",
    "    for i in range(10):\n",
    "        params = opt.step(qnode, params)\n",
    "        expval = qnode(params)\n",
    "\n",
    "        log_metric(metric_name=\"expval\", iteration_number=i, value=expval)\n",
    "\n",
    "    return params"
   ]
  },
  {
   "cell_type": "code",
   "execution_count": 5,
   "metadata": {},
   "outputs": [
    {
     "name": "stderr",
     "output_type": "stream",
     "text": [
      "WARNING! Using --password via the CLI is insecure. Use --password-stdin.\n",
      "Pulling docker container image. This may take a while.\n"
     ]
    },
    {
     "name": "stdout",
     "output_type": "stream",
     "text": [
      "Login Succeeded\n",
      "latest: Pulling from amazon-braket-base-jobs\n",
      "Digest: sha256:ef68dca06901f0ed9ed36731da584bc6f3d185b270859d8401f9b97a079ce266\n",
      "Status: Image is up to date for 292282985366.dkr.ecr.us-east-1.amazonaws.com/amazon-braket-base-jobs:latest\n",
      "292282985366.dkr.ecr.us-east-1.amazonaws.com/amazon-braket-base-jobs:latest\n"
     ]
    },
    {
     "name": "stderr",
     "output_type": "stream",
     "text": [
      "\n",
      "What's Next?\n",
      "  View a summary of image vulnerabilities and recommendations → docker scout quickview 292282985366.dkr.ecr.us-east-1.amazonaws.com/amazon-braket-base-jobs:latest\n",
      "WARNING: The requested image's platform (linux/amd64) does not match the detected host platform (linux/arm64/v8) and no specific platform was requested\n"
     ]
    },
    {
     "name": "stdout",
     "output_type": "stream",
     "text": [
      "Boto3 Version:  1.28.53\n",
      "Beginning Setup\n",
      "Checking for Additional Requirements\n",
      "Additional Requirements Check Finished\n",
      "Running Code As Process\n",
      "Metrics - timestamp=1701289119.6940901; expval=0.38894534132396147; iteration_number=0;\n",
      "Metrics - timestamp=1701289119.7338517; expval=0.12290715413453952; iteration_number=1;\n",
      "Metrics - timestamp=1701289119.7734149; expval=-0.09181374013482183; iteration_number=2;\n",
      "Metrics - timestamp=1701289119.8118005; expval=-0.29360940999485413; iteration_number=3;\n",
      "Metrics - timestamp=1701289119.8504775; expval=-0.5344079938678081; iteration_number=4;\n",
      "Metrics - timestamp=1701289119.889077; expval=-0.7715298984378991; iteration_number=5;\n",
      "Metrics - timestamp=1701289119.9289715; expval=-0.9193547392516986; iteration_number=6;\n",
      "Metrics - timestamp=1701289119.9674022; expval=-0.977154318618763; iteration_number=7;\n",
      "Metrics - timestamp=1701289120.0063171; expval=-0.9940804663947356; iteration_number=8;\n",
      "Metrics - timestamp=1701289120.044763; expval=-0.9985062848699056; iteration_number=9;\n",
      "Code Run Finished\n",
      "e073a9b10305a4dfe4e30f30ac810078526e0f61e0f27456d7e4b8acffb62b5a\n"
     ]
    },
    {
     "data": {
      "text/plain": [
       "{'result': tensor([0.03642036, 3.10081929], requires_grad=True)}"
      ]
     },
     "execution_count": 5,
     "metadata": {},
     "output_type": "execute_result"
    }
   ],
   "source": [
    "qpu_job = qpu_qubit_rotation_hybrid_job(qpu_available=qpu_available)\n",
    "qpu_job.result()"
   ]
  },
  {
   "cell_type": "code",
   "execution_count": 6,
   "metadata": {},
   "outputs": [],
   "source": [
    "import pandas as pd\n",
    "\n",
    "df = pd.DataFrame(qpu_job.metrics())\n",
    "df.sort_values(by=[\"iteration_number\"], inplace=True)"
   ]
  },
  {
   "cell_type": "code",
   "execution_count": 7,
   "metadata": {},
   "outputs": [
    {
     "data": {
      "image/png": "[encoded data removed]",
      "text/plain": [
       "<Figure size 640x480 with 1 Axes>"
      ]
     },
     "metadata": {},
     "output_type": "display_data"
    }
   ],
   "source": [
    "import matplotlib.pyplot as plt\n",
    "\n",
    "plt.plot(df[\"iteration_number\"], df[\"expval\"], \"-o\", color=\"red\")\n",
    "plt.xlabel(\"iteration number\")\n",
    "plt.ylabel(\"expectation value\")\n",
    "plt.title(\"Results\")\n",
    "plt.show()"
   ]
  },
  {
   "cell_type": "code",
   "execution_count": null,
   "metadata": {},
   "outputs": [],
   "source": []
  }
 ],
 "metadata": {
  "kernelspec": {
   "display_name": "pennylane-braket",
   "language": "python",
   "name": "python3"
  },
  "language_info": {
   "codemirror_mode": {
    "name": "ipython",
    "version": 3
   },
   "file_extension": ".py",
   "mimetype": "text/x-python",
   "name": "python",
   "nbconvert_exporter": "python",
   "pygments_lexer": "ipython3",
   "version": "3.10.13"
  }
 },
 "nbformat": 4,
 "nbformat_minor": 2
}
