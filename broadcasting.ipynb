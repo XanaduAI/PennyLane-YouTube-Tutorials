{
 "cells": [
  {
   "cell_type": "code",
   "execution_count": 1,
   "metadata": {},
   "outputs": [],
   "source": [
    "import pennylane as qml\n",
    "from pennylane import numpy as np\n",
    "\n",
    "import torch"
   ]
  },
  {
   "cell_type": "code",
   "execution_count": null,
   "metadata": {},
   "outputs": [],
   "source": [
    "clayer = torch.nn.Linear(2, 2)\n",
    "softmax = torch.nn.Softmax(dim=1)"
   ]
  },
  {
   "cell_type": "code",
   "execution_count": null,
   "metadata": {},
   "outputs": [],
   "source": [
    "n_qubits = 2\n",
    "dev = qml.device(\"default.qubit\", wires=n_qubits)\n",
    "\n",
    "@qml.qnode(dev)\n",
    "def qnode(inputs, weights):\n",
    "    qml.AngleEmbedding(inputs, wires=range(n_qubits))\n",
    "    qml.RX(weights[0], wires=0)\n",
    "    qml.RY(weights[1], wires=1)\n",
    "    return [qml.expval(qml.PauliZ(wires=i)) for i in range(n_qubits)]"
   ]
  },
  {
   "cell_type": "code",
   "execution_count": null,
   "metadata": {},
   "outputs": [],
   "source": [
    "weight_shapes = {\"weights\": (n_qubits,)}\n",
    "qlayer = qml.qnn.TorchLayer(qnode, weight_shapes)"
   ]
  },
  {
   "cell_type": "code",
   "execution_count": null,
   "metadata": {},
   "outputs": [],
   "source": [
    "layers = [clayer, qlayer, softmax]\n",
    "model = torch.nn.Sequential(*layers)"
   ]
  },
  {
   "cell_type": "code",
   "execution_count": null,
   "metadata": {},
   "outputs": [],
   "source": [
    "num_points = 50_000\n",
    "dummy_data = torch.rand(num_points, 2)\n",
    "\n",
    "# Pytorch needs to see a leading batch dimension\n",
    "dummy_data_no_broadcast = [\n",
    "    dummy_data[i].reshape(1, -1) for i in range(num_points)\n",
    "]\n",
    "\n",
    "#print(dummy_data[:5])\n",
    "#print(model(dummy_data[:5]))"
   ]
  },
  {
   "cell_type": "code",
   "execution_count": null,
   "metadata": {},
   "outputs": [],
   "source": [
    "import time\n",
    "\n",
    "no_broadcast_start = time.process_time()\n",
    "\n",
    "for data_point in dummy_data_no_broadcast:\n",
    "    model(data_point)\n",
    "\n",
    "no_broadcast_time = time.process_time() - no_broadcast_start"
   ]
  },
  {
   "cell_type": "code",
   "execution_count": null,
   "metadata": {},
   "outputs": [],
   "source": [
    "batch_sizes = [10, 20, 30, 40, 50, 100]\n",
    "broadcast_times = []\n",
    "\n",
    "num_batches = [num_points // batch_sizes[i] for i in range(len(batch_sizes))]"
   ]
  },
  {
   "cell_type": "code",
   "execution_count": null,
   "metadata": {},
   "outputs": [],
   "source": [
    "for n, batch_size in zip(num_batches, batch_sizes):\n",
    "    start = time.process_time()\n",
    "\n",
    "    for batch_num in range(n):\n",
    "        batch_start = batch_num*batch_size\n",
    "        batch_end = (batch_num + 1)*batch_size\n",
    "        model(dummy_data[batch_start : batch_end])\n",
    "\n",
    "    broadcast_times.append(time.process_time() - start)"
   ]
  },
  {
   "cell_type": "code",
   "execution_count": null,
   "metadata": {},
   "outputs": [],
   "source": [
    "import matplotlib.pyplot as plt\n",
    "\n",
    "plt.style.use(\"pennylane.drawer.plot\")"
   ]
  },
  {
   "cell_type": "code",
   "execution_count": null,
   "metadata": {},
   "outputs": [],
   "source": [
    "batch_sizes.append(1)\n",
    "broadcast_times.append(no_broadcast_time)\n",
    "\n",
    "plt.scatter(batch_sizes, broadcast_times)\n",
    "plt.ylabel('Time (s)')\n",
    "plt.xlabel('Batch size')\n",
    "plt.title(\"Time taken for one full pass through data\")\n",
    "plt.show()"
   ]
  }
 ],
 "metadata": {
  "kernelspec": {
   "display_name": "pennylane-torch",
   "language": "python",
   "name": "python3"
  },
  "language_info": {
   "codemirror_mode": {
    "name": "ipython",
    "version": 3
   },
   "file_extension": ".py",
   "mimetype": "text/x-python",
   "name": "python",
   "nbconvert_exporter": "python",
   "pygments_lexer": "ipython3",
   "version": "3.9.14"
  }
 },
 "nbformat": 4,
 "nbformat_minor": 2
}
